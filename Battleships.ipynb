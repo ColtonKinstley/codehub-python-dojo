{
 "cells": [
  {
   "cell_type": "code",
   "execution_count": 1,
   "metadata": {},
   "outputs": [
    {
     "data": {
      "text/plain": [
       "array([[0., 0., 0., 0., 0., 0., 0., 0., 0., 0.],\n",
       "       [0., 0., 0., 0., 0., 0., 0., 0., 0., 0.],\n",
       "       [0., 0., 0., 0., 0., 0., 0., 0., 0., 0.],\n",
       "       [0., 0., 0., 0., 0., 0., 0., 0., 0., 0.],\n",
       "       [0., 0., 0., 0., 0., 0., 0., 0., 0., 0.],\n",
       "       [0., 0., 0., 0., 0., 0., 0., 0., 0., 0.],\n",
       "       [0., 0., 0., 0., 0., 0., 0., 0., 0., 0.],\n",
       "       [0., 0., 0., 0., 0., 0., 0., 0., 0., 0.],\n",
       "       [0., 0., 0., 0., 0., 0., 0., 0., 0., 0.],\n",
       "       [0., 0., 0., 0., 0., 0., 0., 0., 0., 0.]])"
      ]
     },
     "execution_count": 1,
     "metadata": {},
     "output_type": "execute_result"
    }
   ],
   "source": [
    "import numpy as np\n",
    "import matplotlib.pyplot as plt\n",
    "import matplotlib\n",
    "from random import randint\n",
    "from matplotlib.colors import LinearSegmentedColormap\n",
    "\n",
    "\n",
    "\n",
    "\n",
    "board = np.zeros((10, 10))\n",
    "board\n",
    "\n"
   ]
  },
  {
   "cell_type": "code",
   "execution_count": 2,
   "metadata": {},
   "outputs": [
    {
     "data": {
      "text/plain": [
       "array([[0., 0., 0., 0., 0., 0., 0., 0., 0., 0.],\n",
       "       [0., 0., 0., 0., 0., 0., 0., 0., 0., 0.],\n",
       "       [0., 0., 0., 0., 0., 0., 0., 0., 0., 0.],\n",
       "       [0., 0., 0., 0., 0., 0., 0., 0., 0., 0.],\n",
       "       [0., 0., 0., 0., 0., 0., 0., 0., 0., 0.],\n",
       "       [0., 0., 0., 0., 0., 0., 0., 0., 0., 0.],\n",
       "       [0., 0., 0., 0., 0., 0., 0., 0., 0., 0.],\n",
       "       [0., 0., 0., 0., 0., 0., 0., 0., 0., 0.],\n",
       "       [0., 0., 0., 0., 0., 0., 0., 0., 0., 0.],\n",
       "       [0., 0., 0., 0., 0., 0., 0., 0., 0., 0.]])"
      ]
     },
     "execution_count": 2,
     "metadata": {},
     "output_type": "execute_result"
    }
   ],
   "source": [
    "def place_ship(mat_w_ship):\n",
    "    board_truth_table = board\n",
    "    board_truth_table[board_truth_table != 0] = 1\n",
    "    mat_w_ship_truth_table = mat_w_ship\n",
    "    mat_w_ship_truth_table[mat_w_ship_truth_table != 0] = 1\n",
    "\n",
    "    board_w_ship_test = np.add(board_truth_table, mat_w_ship_truth_table)\n",
    "    ship_cannot_be_added = np.any(board_w_ship_test > 1)\n",
    "    # if nothing greater than 1 in the matrix addition, the ship can be placed\n",
    "    if (not ship_cannot_be_added):\n",
    "        # TODO: update board with the placed ship\n",
    "        newboard = np.add(board, mat_w_ship)\n",
    "        return newboard\n",
    "    else:\n",
    "        return board\n",
    "\n",
    "place_ship(np.zeros((10, 10)))"
   ]
  },
  {
   "cell_type": "code",
   "execution_count": 3,
   "metadata": {},
   "outputs": [],
   "source": [
    "def plot_board(board):\n",
    "    cmap = matplotlib.cm.get_cmap('CMRmap_r', 8)\n",
    "    plt.matshow(board, cmap=cmap)\n",
    "    plt.xticks(np.arange(0.5, 10.5), [0, 1, 2, 3, 4, 5, 6, 7, 8, 9])\n",
    "    plt.yticks(np.arange(0.5, 10.5), [0, 1, 2, 3, 4, 5, 6, 7, 8, 9])\n",
    "    plt.grid()\n",
    "    plt.colorbar()\n",
    "    plt.clim(-2, 5)\n",
    "    plt.show()\n",
    "    \n"
   ]
  },
  {
   "cell_type": "code",
   "execution_count": 4,
   "metadata": {},
   "outputs": [
    {
     "data": {
      "image/png": "[encoded data removed]",
      "text/plain": [
       "<Figure size 288x288 with 2 Axes>"
      ]
     },
     "metadata": {},
     "output_type": "display_data"
    }
   ],
   "source": [
    "# y, x notation\n",
    "board[2, 2:7] = 5\n",
    "board[3:6, 2] = 4\n",
    "board[3, 3:6] = 3\n",
    "board[4:9, 3] = 3\n",
    "board[3:5, 6] = 2\n",
    "\n",
    "\n",
    "\n",
    "plot_board(board)"
   ]
  },
  {
   "cell_type": "code",
   "execution_count": 5,
   "metadata": {},
   "outputs": [],
   "source": [
    "def rand_hit():\n",
    "    rand_x = randint(0, 9)\n",
    "    rand_y = randint(0, 9)\n",
    "    print(\"Shot at (%u, %u)\" % (rand_x, rand_y))\n",
    "    if board[rand_y, rand_x] != 0:\n",
    "        print(\"Hit\")\n",
    "        board[rand_y, rand_x] = -1\n",
    "    else:\n",
    "        print(\"Missed\")\n",
    "        board[rand_y, rand_x] = -2\n",
    "    plot_board(board)"
   ]
  },
  {
   "cell_type": "code",
   "execution_count": 11,
   "metadata": {},
   "outputs": [
    {
     "name": "stdout",
     "output_type": "stream",
     "text": [
      "Shot at (6, 2)\n",
      "Hit\n"
     ]
    },
    {
     "data": {
      "image/png": "[encoded data removed]",
      "text/plain": [
       "<Figure size 288x288 with 2 Axes>"
      ]
     },
     "metadata": {},
     "output_type": "display_data"
    }
   ],
   "source": [
    "rand_hit()"
   ]
  },
  {
   "cell_type": "code",
   "execution_count": null,
   "metadata": {},
   "outputs": [],
   "source": [
    "class Board():\n",
    "\n",
    "    def __init__(self):\n",
    "        self.board = np.zeros(shape=(10,10))\n",
    "\n",
    "        self.ships = {'carrier': np.ones(shape=(1,5)),\n",
    "                'battleship': np.ones(shape=(1,4)),\n",
    "                'cruser': np.ones(shape=(1,3)),\n",
    "                'submarine': np.ones(shape=(1,3)),\n",
    "                'destroyer': np.ones(shape=(1,2))\n",
    "                }\n",
    "        small_letters = list(map(chr, range(ord('a'), ord('z')+1)))\n",
    "        self.letters = dict(zip(small_letters, map(lambda letter: str(ord(letter)-96), small_letters)))\n",
    "\n",
    "    def place_ship(self, name, orientation, num, letter):\n",
    "        try:\n",
    "            if orientation == 'hor':\n",
    "                ship = np.pad(self.ships[name], (num-1, (10-(num-1)-self.ships[name].shape()[1])), 'constant', constant_values=(0, 0) )\n",
    "                self.board = self.board[:,self.letters[letter]-1] + ship\n",
    "\n",
    "            elif orientation == 'ver':\n",
    "                # transpose this for vertical ships\n",
    "                ship = np.pad(ships[name],(num-1,10-(num-1)-ship[name].shape()[5]))\n",
    "                self.board =  self.board[:,self.letters[letter]-1] + ship\n",
    "\n",
    "            else:\n",
    "                print('Bad orientation.')\n",
    "\n",
    "        except:\n",
    "            pass\n",
    "\n",
    "\n",
    "\n",
    "    def hit(self, num, letter):\n",
    "        if self.board[num,letters[letter]] == 1:\n",
    "            return True\n",
    "        else:\n",
    "            return False\n",
    "\n",
    "    def show_board(self):\n",
    "        print(self.board)\n",
    "        \n",
    "    def plot_board(self):\n",
    "        cmap = matplotlib.cm.get_cmap('CMRmap_r', 8)\n",
    "        plt.matshow(self.board, cmap=cmap)\n",
    "        plt.xticks(np.arange(0.5, 10.5), [0, 1, 2, 3, 4, 5, 6, 7, 8, 9])\n",
    "        plt.yticks(np.arange(0.5, 10.5), [0, 1, 2, 3, 4, 5, 6, 7, 8, 9])\n",
    "        plt.grid()\n",
    "        plt.colorbar()\n",
    "        plt.clim(-2, 5)\n",
    "        plt.show()\n",
    "\n",
    "class Game(Board):\n",
    "    def __init__(self, name1, name2):\n",
    "        self.player1 = {name:name1, points:0}\n",
    "        self.player2 = {name:name2, points:0}\n",
    "\n",
    "    def win(self,player):"
   ]
  }
 ],
 "metadata": {
  "kernelspec": {
   "display_name": "Python 3",
   "language": "python",
   "name": "python3"
  },
  "language_info": {
   "codemirror_mode": {
    "name": "ipython",
    "version": 3
   },
   "file_extension": ".py",
   "mimetype": "text/x-python",
   "name": "python",
   "nbconvert_exporter": "python",
   "pygments_lexer": "ipython3",
   "version": "3.6.5"
  }
 },
 "nbformat": 4,
 "nbformat_minor": 2
}
