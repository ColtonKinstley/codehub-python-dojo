{
 "cells": [
  {
   "cell_type": "code",
   "execution_count": 1,
   "metadata": {},
   "outputs": [
    {
     "data": {
      "text/plain": [
       "array([[0., 0., 0., 0., 0., 0., 0., 0., 0., 0.],\n",
       "       [0., 0., 0., 0., 0., 0., 0., 0., 0., 0.],\n",
       "       [0., 0., 0., 0., 0., 0., 0., 0., 0., 0.],\n",
       "       [0., 0., 0., 0., 0., 0., 0., 0., 0., 0.],\n",
       "       [0., 0., 0., 0., 0., 0., 0., 0., 0., 0.],\n",
       "       [0., 0., 0., 0., 0., 0., 0., 0., 0., 0.],\n",
       "       [0., 0., 0., 0., 0., 0., 0., 0., 0., 0.],\n",
       "       [0., 0., 0., 0., 0., 0., 0., 0., 0., 0.],\n",
       "       [0., 0., 0., 0., 0., 0., 0., 0., 0., 0.],\n",
       "       [0., 0., 0., 0., 0., 0., 0., 0., 0., 0.]])"
      ]
     },
     "execution_count": 1,
     "metadata": {},
     "output_type": "execute_result"
    }
   ],
   "source": [
    "import numpy as np\n",
    "import matplotlib.pyplot as plt\n",
    "import matplotlib\n",
    "\n",
    "\n",
    "\n",
    "board = np.zeros((10, 10))\n",
    "board\n",
    "\n"
   ]
  },
  {
   "cell_type": "code",
   "execution_count": 2,
   "metadata": {},
   "outputs": [
    {
     "data": {
      "text/plain": [
       "array([[0., 0., 0., 0., 0., 0., 0., 0., 0., 0.],\n",
       "       [0., 0., 0., 0., 0., 0., 0., 0., 0., 0.],\n",
       "       [0., 0., 0., 0., 0., 0., 0., 0., 0., 0.],\n",
       "       [0., 0., 0., 0., 0., 0., 0., 0., 0., 0.],\n",
       "       [0., 0., 0., 0., 0., 0., 0., 0., 0., 0.],\n",
       "       [0., 0., 0., 0., 0., 0., 0., 0., 0., 0.],\n",
       "       [0., 0., 0., 0., 0., 0., 0., 0., 0., 0.],\n",
       "       [0., 0., 0., 0., 0., 0., 0., 0., 0., 0.],\n",
       "       [0., 0., 0., 0., 0., 0., 0., 0., 0., 0.],\n",
       "       [0., 0., 0., 0., 0., 0., 0., 0., 0., 0.]])"
      ]
     },
     "execution_count": 2,
     "metadata": {},
     "output_type": "execute_result"
    }
   ],
   "source": [
    "def place_ship(mat_w_ship):\n",
    "    board_truth_table = board\n",
    "    board_truth_table[board_truth_table != 0] = 1\n",
    "    mat_w_ship_truth_table = mat_w_ship\n",
    "    mat_w_ship_truth_table[mat_w_ship_truth_table != 0] = 1\n",
    "\n",
    "    board_w_ship_test = np.add(board_truth_table, mat_w_ship_truth_table)\n",
    "    ship_cannot_be_added = np.any(board_w_ship_test > 1)\n",
    "    # if nothing greater than 1 in the matrix addition, the ship can be placed\n",
    "    if (not ship_cannot_be_added):\n",
    "        # TODO: update board with the placed ship\n",
    "        newboard = np.add(board, mat_w_ship)\n",
    "        return newboard\n",
    "    else:\n",
    "        return board\n",
    "\n",
    "place_ship(np.zeros((10, 10)))"
   ]
  },
  {
   "cell_type": "code",
   "execution_count": 3,
   "metadata": {},
   "outputs": [],
   "source": [
    "def plot_board(board):\n",
    "    cmap = matplotlib.cm.get_cmap('CMRmap_r')\n",
    "    normalize = matplotlib.colors.Normalize(vmin=0, vmax=5)\n",
    "    colors = [cmap(normalize(value)) for value in range(0, 5)]\n",
    "    plt.matshow(board, cmap=cmap)\n",
    "    plt.xticks(np.arange(0.5, 10.5), [0, 1, 2, 3, 4, 5, 6, 7, 8, 9])\n",
    "    plt.yticks(np.arange(0.5, 10.5), [0, 1, 2, 3, 4, 5, 6, 7, 8, 9])\n",
    "    plt.grid()\n",
    "    # plt.colorbar()\n",
    "    plt.show()\n",
    "    \n"
   ]
  },
  {
   "cell_type": "code",
   "execution_count": 4,
   "metadata": {},
   "outputs": [
    {
     "data": {
      "image/png": "[encoded data removed]",
      "text/plain": [
       "<Figure size 288x288 with 1 Axes>"
      ]
     },
     "metadata": {},
     "output_type": "display_data"
    }
   ],
   "source": [
    "# y, x notation\n",
    "board[0, 0:5] = 5\n",
    "board[1:4, 0] = 4\n",
    "board[1,1:4] = 3\n",
    "\n",
    "\n",
    "plot_board(board)"
   ]
  },
  {
   "cell_type": "code",
   "execution_count": null,
   "metadata": {},
   "outputs": [],
   "source": []
  }
 ],
 "metadata": {
  "kernelspec": {
   "display_name": "Python 3",
   "language": "python",
   "name": "python3"
  },
  "language_info": {
   "codemirror_mode": {
    "name": "ipython",
    "version": 3
   },
   "file_extension": ".py",
   "mimetype": "text/x-python",
   "name": "python",
   "nbconvert_exporter": "python",
   "pygments_lexer": "ipython3",
   "version": "3.6.5"
  }
 },
 "nbformat": 4,
 "nbformat_minor": 2
}
